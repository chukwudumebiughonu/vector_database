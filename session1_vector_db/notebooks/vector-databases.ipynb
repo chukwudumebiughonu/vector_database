{
 "cells": [
  {
   "cell_type": "markdown",
   "metadata": {},
   "source": [
    "## Generate Embeddings\n"
   ]
  },
  {
   "cell_type": "code",
   "execution_count": 1,
   "metadata": {},
   "outputs": [
    {
     "data": {
      "text/html": [
       "<div>\n",
       "<style scoped>\n",
       "    .dataframe tbody tr th:only-of-type {\n",
       "        vertical-align: middle;\n",
       "    }\n",
       "\n",
       "    .dataframe tbody tr th {\n",
       "        vertical-align: top;\n",
       "    }\n",
       "\n",
       "    .dataframe thead th {\n",
       "        text-align: right;\n",
       "    }\n",
       "</style>\n",
       "<table border=\"1\" class=\"dataframe\">\n",
       "  <thead>\n",
       "    <tr style=\"text-align: right;\">\n",
       "      <th></th>\n",
       "      <th>sentence</th>\n",
       "    </tr>\n",
       "  </thead>\n",
       "  <tbody>\n",
       "    <tr>\n",
       "      <th>0</th>\n",
       "      <td>A little girl is smiling and running outside</td>\n",
       "    </tr>\n",
       "    <tr>\n",
       "      <th>1</th>\n",
       "      <td>A man is drawing on a digital dry erase board</td>\n",
       "    </tr>\n",
       "    <tr>\n",
       "      <th>2</th>\n",
       "      <td>A black bird is sitting on a dead tree</td>\n",
       "    </tr>\n",
       "    <tr>\n",
       "      <th>3</th>\n",
       "      <td>An elderly man is sitting on a bench</td>\n",
       "    </tr>\n",
       "    <tr>\n",
       "      <th>4</th>\n",
       "      <td>A man and a woman are sitting comfortably on t...</td>\n",
       "    </tr>\n",
       "  </tbody>\n",
       "</table>\n",
       "</div>"
      ],
      "text/plain": [
       "                                            sentence\n",
       "0       A little girl is smiling and running outside\n",
       "1      A man is drawing on a digital dry erase board\n",
       "2             A black bird is sitting on a dead tree\n",
       "3               An elderly man is sitting on a bench\n",
       "4  A man and a woman are sitting comfortably on t..."
      ]
     },
     "execution_count": 1,
     "metadata": {},
     "output_type": "execute_result"
    }
   ],
   "source": [
    "import pandas as pd\n",
    "\n",
    "dataset = pd.read_csv(\"../data/sentences.csv\")\n",
    "dataset.head()"
   ]
  },
  {
   "cell_type": "code",
   "execution_count": 2,
   "metadata": {},
   "outputs": [
    {
     "name": "stderr",
     "output_type": "stream",
     "text": [
      "2024-11-12 18:49:50.538969: I tensorflow/core/platform/cpu_feature_guard.cc:182] This TensorFlow binary is optimized to use available CPU instructions in performance-critical operations.\n",
      "To enable the following instructions: SSE4.1 SSE4.2 AVX AVX2 FMA, in other operations, rebuild TensorFlow with the appropriate compiler flags.\n"
     ]
    },
    {
     "name": "stdout",
     "output_type": "stream",
     "text": [
      "Embedding dimension: 1536\n"
     ]
    }
   ],
   "source": [
    "import numpy as np\n",
    "from sklearn.feature_extraction.text import TfidfVectorizer\n",
    "from sentence_transformers import SentenceTransformer\n",
    "\n",
    "model = SentenceTransformer('all-MiniLM-L6-v2')\n",
    "\n",
    "def get_embedding(sentence, vector_size=1536):\n",
    "   \n",
    "    # Get embedding from sentence transformer\n",
    "    embedding = model.encode(sentence)\n",
    "    \n",
    "    if len(embedding) < vector_size:\n",
    "        embedding = np.pad(embedding, (0, vector_size - len(embedding)))\n",
    "    else:\n",
    "        embedding = embedding[:vector_size]\n",
    "    \n",
    "    return embedding.tolist()\n",
    "\n",
    "test_embedding = get_embedding(\"test sentence\")\n",
    "print(f\"Embedding dimension: {len(test_embedding)}\")"
   ]
  },
  {
   "cell_type": "code",
   "execution_count": 3,
   "metadata": {},
   "outputs": [],
   "source": [
    "import os\n",
    "import numpy as np\n",
    "\n",
    "if os.path.exists(\"../data/embedded_sentences.csv\"):\n",
    "    dataset = pd.read_csv(\"../data/embedded_sentences.csv\")\n",
    "    dataset[\"embedding\"] = dataset.embedding.apply(eval).apply(np.array)\n",
    "else:\n",
    "    dataset[\"embedding\"] = dataset[\"sentence\"].apply(get_embedding)\n",
    "    dataset.to_csv(\"../data/embedded_sentences.csv\", index=False)"
   ]
  },
  {
   "cell_type": "code",
   "execution_count": 4,
   "metadata": {},
   "outputs": [
    {
     "data": {
      "text/html": [
       "<div>\n",
       "<style scoped>\n",
       "    .dataframe tbody tr th:only-of-type {\n",
       "        vertical-align: middle;\n",
       "    }\n",
       "\n",
       "    .dataframe tbody tr th {\n",
       "        vertical-align: top;\n",
       "    }\n",
       "\n",
       "    .dataframe thead th {\n",
       "        text-align: right;\n",
       "    }\n",
       "</style>\n",
       "<table border=\"1\" class=\"dataframe\">\n",
       "  <thead>\n",
       "    <tr style=\"text-align: right;\">\n",
       "      <th></th>\n",
       "      <th>sentence</th>\n",
       "      <th>embedding</th>\n",
       "      <th>id</th>\n",
       "    </tr>\n",
       "  </thead>\n",
       "  <tbody>\n",
       "    <tr>\n",
       "      <th>0</th>\n",
       "      <td>A little girl is smiling and running outside</td>\n",
       "      <td>[0.0436425618827343, 0.01375775970518589, 0.00...</td>\n",
       "      <td>1</td>\n",
       "    </tr>\n",
       "    <tr>\n",
       "      <th>1</th>\n",
       "      <td>A man is drawing on a digital dry erase board</td>\n",
       "      <td>[-0.008048108778893948, 0.030766354873776436, ...</td>\n",
       "      <td>2</td>\n",
       "    </tr>\n",
       "    <tr>\n",
       "      <th>2</th>\n",
       "      <td>A black bird is sitting on a dead tree</td>\n",
       "      <td>[0.027433251962065697, 1.8205369087809231e-06,...</td>\n",
       "      <td>3</td>\n",
       "    </tr>\n",
       "    <tr>\n",
       "      <th>3</th>\n",
       "      <td>An elderly man is sitting on a bench</td>\n",
       "      <td>[-0.004122881218791008, -0.056238383054733276,...</td>\n",
       "      <td>4</td>\n",
       "    </tr>\n",
       "    <tr>\n",
       "      <th>4</th>\n",
       "      <td>A man and a woman are sitting comfortably on t...</td>\n",
       "      <td>[0.021146269515156746, -0.032280709594488144, ...</td>\n",
       "      <td>5</td>\n",
       "    </tr>\n",
       "  </tbody>\n",
       "</table>\n",
       "</div>"
      ],
      "text/plain": [
       "                                            sentence  \\\n",
       "0       A little girl is smiling and running outside   \n",
       "1      A man is drawing on a digital dry erase board   \n",
       "2             A black bird is sitting on a dead tree   \n",
       "3               An elderly man is sitting on a bench   \n",
       "4  A man and a woman are sitting comfortably on t...   \n",
       "\n",
       "                                           embedding  id  \n",
       "0  [0.0436425618827343, 0.01375775970518589, 0.00...   1  \n",
       "1  [-0.008048108778893948, 0.030766354873776436, ...   2  \n",
       "2  [0.027433251962065697, 1.8205369087809231e-06,...   3  \n",
       "3  [-0.004122881218791008, -0.056238383054733276,...   4  \n",
       "4  [0.021146269515156746, -0.032280709594488144, ...   5  "
      ]
     },
     "execution_count": 4,
     "metadata": {},
     "output_type": "execute_result"
    }
   ],
   "source": [
    "dataset[\"id\"] = range(1, len(dataset) + 1)\n",
    "dataset.head()"
   ]
  },
  {
   "cell_type": "code",
   "execution_count": 5,
   "metadata": {},
   "outputs": [
    {
     "data": {
      "text/plain": [
       "1536"
      ]
     },
     "execution_count": 5,
     "metadata": {},
     "output_type": "execute_result"
    }
   ],
   "source": [
    "embedding_dimension = len(dataset.iloc[0][\"embedding\"])\n",
    "embedding_dimension"
   ]
  },
  {
   "cell_type": "markdown",
   "metadata": {},
   "source": [
    "## Faiss\n",
    "\n",
    "Check [Faiss Indexes](https://github.com/facebookresearch/faiss/wiki/Faiss-indexes) for more information.\n"
   ]
  },
  {
   "cell_type": "code",
   "execution_count": null,
   "metadata": {},
   "outputs": [],
   "source": [
    "embeddings = np.array(dataset.embedding.tolist(), dtype=np.float32)\n",
    "query = \"I love soccer\"\n",
    "xq = np.array(get_embedding(query), dtype=np.float32)\n",
    "\n",
    "import faiss\n",
    "import gc  # Garbage collector\n",
    "\n",
    "# Create index with reduced memory footprint\n",
    "ncentroids = 10  # Reduced from 20\n",
    "quantizer = faiss.IndexFlatL2(embedding_dimension)\n",
    "index_ivf = faiss.IndexIVFFlat(quantizer, embedding_dimension, ncentroids)\n",
    "\n",
    "# Train in batches if needed\n",
    "try:\n",
    "    print(\"Starting training...\")\n",
    "    # Ensure contiguous array\n",
    "    embeddings = np.ascontiguousarray(embeddings)\n",
    "    # Train with explicit memory management\n",
    "    index_ivf.train(embeddings)\n",
    "    print(\"Training completed\")\n",
    "    is_trained = index_ivf.is_trained\n",
    "    print(\"Is trained:\", is_trained)\n",
    "except Exception as e:\n",
    "    print(f\"Error during training: {e}\")\n",
    "finally:\n",
    "    # Clean up\n",
    "    gc.collect()"
   ]
  },
  {
   "cell_type": "markdown",
   "metadata": {},
   "source": [
    "### IndexFlatL2 - Exact Search for L2\n"
   ]
  },
  {
   "cell_type": "code",
   "execution_count": 12,
   "metadata": {},
   "outputs": [
    {
     "data": {
      "text/plain": [
       "True"
      ]
     },
     "execution_count": 12,
     "metadata": {},
     "output_type": "execute_result"
    }
   ],
   "source": [
    "import faiss\n",
    "\n",
    "index_l2 = faiss.IndexFlatL2(embedding_dimension)\n",
    "index_l2.is_trained"
   ]
  },
  {
   "cell_type": "code",
   "execution_count": 13,
   "metadata": {},
   "outputs": [
    {
     "data": {
      "text/plain": [
       "1000"
      ]
     },
     "execution_count": 13,
     "metadata": {},
     "output_type": "execute_result"
    }
   ],
   "source": [
    "index_l2.add(embeddings)\n",
    "index_l2.ntotal"
   ]
  },
  {
   "cell_type": "code",
   "execution_count": 14,
   "metadata": {},
   "outputs": [
    {
     "data": {
      "text/html": [
       "<div>\n",
       "<style scoped>\n",
       "    .dataframe tbody tr th:only-of-type {\n",
       "        vertical-align: middle;\n",
       "    }\n",
       "\n",
       "    .dataframe tbody tr th {\n",
       "        vertical-align: top;\n",
       "    }\n",
       "\n",
       "    .dataframe thead th {\n",
       "        text-align: right;\n",
       "    }\n",
       "</style>\n",
       "<table border=\"1\" class=\"dataframe\">\n",
       "  <thead>\n",
       "    <tr style=\"text-align: right;\">\n",
       "      <th></th>\n",
       "      <th>sentence</th>\n",
       "      <th>embedding</th>\n",
       "      <th>id</th>\n",
       "    </tr>\n",
       "  </thead>\n",
       "  <tbody>\n",
       "    <tr>\n",
       "      <th>928</th>\n",
       "      <td>A young child is watering a plant with splashes</td>\n",
       "      <td>[0.035140275955200195, 0.00795348733663559, -0...</td>\n",
       "      <td>929</td>\n",
       "    </tr>\n",
       "    <tr>\n",
       "      <th>776</th>\n",
       "      <td>A young child is splashing in the water</td>\n",
       "      <td>[0.014795569702982903, 0.008873002603650093, 0...</td>\n",
       "      <td>777</td>\n",
       "    </tr>\n",
       "    <tr>\n",
       "      <th>438</th>\n",
       "      <td>Three people are walking across a rope and ste...</td>\n",
       "      <td>[0.032441552728414536, 0.02215403877198696, -0...</td>\n",
       "      <td>439</td>\n",
       "    </tr>\n",
       "    <tr>\n",
       "      <th>328</th>\n",
       "      <td>A dog is swimming after a tennis ball</td>\n",
       "      <td>[-0.018068404868245125, 0.042923588305711746, ...</td>\n",
       "      <td>329</td>\n",
       "    </tr>\n",
       "  </tbody>\n",
       "</table>\n",
       "</div>"
      ],
      "text/plain": [
       "                                              sentence  \\\n",
       "928    A young child is watering a plant with splashes   \n",
       "776            A young child is splashing in the water   \n",
       "438  Three people are walking across a rope and ste...   \n",
       "328              A dog is swimming after a tennis ball   \n",
       "\n",
       "                                             embedding   id  \n",
       "928  [0.035140275955200195, 0.00795348733663559, -0...  929  \n",
       "776  [0.014795569702982903, 0.008873002603650093, 0...  777  \n",
       "438  [0.032441552728414536, 0.02215403877198696, -0...  439  \n",
       "328  [-0.018068404868245125, 0.042923588305711746, ...  329  "
      ]
     },
     "execution_count": 14,
     "metadata": {},
     "output_type": "execute_result"
    }
   ],
   "source": [
    "_, document_indices = index_l2.search(np.expand_dims(xq, axis=0), k=4)\n",
    "dataset.iloc[document_indices[0]]"
   ]
  },
  {
   "cell_type": "markdown",
   "metadata": {},
   "source": [
    "### IndexIVFFlat - Inverted file with exact post-verification\n",
    "\n",
    "<img src='images/ivf.png' width=\"1000\">\n"
   ]
  },
  {
   "cell_type": "code",
   "execution_count": 15,
   "metadata": {},
   "outputs": [
    {
     "data": {
      "text/plain": [
       "False"
      ]
     },
     "execution_count": 15,
     "metadata": {},
     "output_type": "execute_result"
    }
   ],
   "source": [
    "ncentroids = 20\n",
    "quantizer = faiss.IndexFlatL2(embedding_dimension)\n",
    "index_ivf = faiss.IndexIVFFlat(quantizer, embedding_dimension, ncentroids)\n",
    "index_ivf.is_trained"
   ]
  },
  {
   "cell_type": "code",
   "execution_count": 16,
   "metadata": {},
   "outputs": [
    {
     "data": {
      "text/plain": [
       "True"
      ]
     },
     "execution_count": 16,
     "metadata": {},
     "output_type": "execute_result"
    }
   ],
   "source": [
    "index_ivf.train(embeddings)\n",
    "index_ivf.is_trained"
   ]
  },
  {
   "cell_type": "code",
   "execution_count": 17,
   "metadata": {},
   "outputs": [
    {
     "data": {
      "text/plain": [
       "1000"
      ]
     },
     "execution_count": 17,
     "metadata": {},
     "output_type": "execute_result"
    }
   ],
   "source": [
    "index_ivf.add(embeddings)\n",
    "index_ivf.ntotal"
   ]
  },
  {
   "cell_type": "code",
   "execution_count": 18,
   "metadata": {},
   "outputs": [
    {
     "data": {
      "text/html": [
       "<div>\n",
       "<style scoped>\n",
       "    .dataframe tbody tr th:only-of-type {\n",
       "        vertical-align: middle;\n",
       "    }\n",
       "\n",
       "    .dataframe tbody tr th {\n",
       "        vertical-align: top;\n",
       "    }\n",
       "\n",
       "    .dataframe thead th {\n",
       "        text-align: right;\n",
       "    }\n",
       "</style>\n",
       "<table border=\"1\" class=\"dataframe\">\n",
       "  <thead>\n",
       "    <tr style=\"text-align: right;\">\n",
       "      <th></th>\n",
       "      <th>sentence</th>\n",
       "      <th>embedding</th>\n",
       "      <th>id</th>\n",
       "    </tr>\n",
       "  </thead>\n",
       "  <tbody>\n",
       "    <tr>\n",
       "      <th>194</th>\n",
       "      <td>The boy and the girl are playing and wearing a...</td>\n",
       "      <td>[0.03363574668765068, 0.025265799835324287, -0...</td>\n",
       "      <td>195</td>\n",
       "    </tr>\n",
       "    <tr>\n",
       "      <th>985</th>\n",
       "      <td>Several swimmers are jumping into the water</td>\n",
       "      <td>[0.024976184591650963, 0.08189535140991211, 0....</td>\n",
       "      <td>986</td>\n",
       "    </tr>\n",
       "    <tr>\n",
       "      <th>663</th>\n",
       "      <td>A young couple is sleeping in bed</td>\n",
       "      <td>[-0.010642520152032375, -0.02006523497402668, ...</td>\n",
       "      <td>664</td>\n",
       "    </tr>\n",
       "    <tr>\n",
       "      <th>678</th>\n",
       "      <td>A person is being kicked by a monkey</td>\n",
       "      <td>[0.013209913857281208, 0.0234414990991354, -0....</td>\n",
       "      <td>679</td>\n",
       "    </tr>\n",
       "  </tbody>\n",
       "</table>\n",
       "</div>"
      ],
      "text/plain": [
       "                                              sentence  \\\n",
       "194  The boy and the girl are playing and wearing a...   \n",
       "985        Several swimmers are jumping into the water   \n",
       "663                  A young couple is sleeping in bed   \n",
       "678               A person is being kicked by a monkey   \n",
       "\n",
       "                                             embedding   id  \n",
       "194  [0.03363574668765068, 0.025265799835324287, -0...  195  \n",
       "985  [0.024976184591650963, 0.08189535140991211, 0....  986  \n",
       "663  [-0.010642520152032375, -0.02006523497402668, ...  664  \n",
       "678  [0.013209913857281208, 0.0234414990991354, -0....  679  "
      ]
     },
     "execution_count": 18,
     "metadata": {},
     "output_type": "execute_result"
    }
   ],
   "source": [
    "_, document_indices = index_ivf.search(np.expand_dims(xq, axis=0), k=4)\n",
    "dataset.iloc[document_indices[0]]"
   ]
  },
  {
   "cell_type": "code",
   "execution_count": 19,
   "metadata": {},
   "outputs": [
    {
     "data": {
      "text/html": [
       "<div>\n",
       "<style scoped>\n",
       "    .dataframe tbody tr th:only-of-type {\n",
       "        vertical-align: middle;\n",
       "    }\n",
       "\n",
       "    .dataframe tbody tr th {\n",
       "        vertical-align: top;\n",
       "    }\n",
       "\n",
       "    .dataframe thead th {\n",
       "        text-align: right;\n",
       "    }\n",
       "</style>\n",
       "<table border=\"1\" class=\"dataframe\">\n",
       "  <thead>\n",
       "    <tr style=\"text-align: right;\">\n",
       "      <th></th>\n",
       "      <th>sentence</th>\n",
       "      <th>embedding</th>\n",
       "      <th>id</th>\n",
       "    </tr>\n",
       "  </thead>\n",
       "  <tbody>\n",
       "    <tr>\n",
       "      <th>438</th>\n",
       "      <td>Three people are walking across a rope and ste...</td>\n",
       "      <td>[0.032441552728414536, 0.02215403877198696, -0...</td>\n",
       "      <td>439</td>\n",
       "    </tr>\n",
       "    <tr>\n",
       "      <th>139</th>\n",
       "      <td>Three people are walking across a rope and woo...</td>\n",
       "      <td>[0.02049058862030506, 0.036873724311590195, 0....</td>\n",
       "      <td>140</td>\n",
       "    </tr>\n",
       "    <tr>\n",
       "      <th>527</th>\n",
       "      <td>A baby rhino is shunning an adult rhino</td>\n",
       "      <td>[0.028290603309869766, 0.0036420845426619053, ...</td>\n",
       "      <td>528</td>\n",
       "    </tr>\n",
       "    <tr>\n",
       "      <th>951</th>\n",
       "      <td>Two children are playing on a statue</td>\n",
       "      <td>[0.07849501818418503, -0.013872774317860603, -...</td>\n",
       "      <td>952</td>\n",
       "    </tr>\n",
       "  </tbody>\n",
       "</table>\n",
       "</div>"
      ],
      "text/plain": [
       "                                              sentence  \\\n",
       "438  Three people are walking across a rope and ste...   \n",
       "139  Three people are walking across a rope and woo...   \n",
       "527            A baby rhino is shunning an adult rhino   \n",
       "951               Two children are playing on a statue   \n",
       "\n",
       "                                             embedding   id  \n",
       "438  [0.032441552728414536, 0.02215403877198696, -0...  439  \n",
       "139  [0.02049058862030506, 0.036873724311590195, 0....  140  \n",
       "527  [0.028290603309869766, 0.0036420845426619053, ...  528  \n",
       "951  [0.07849501818418503, -0.013872774317860603, -...  952  "
      ]
     },
     "execution_count": 19,
     "metadata": {},
     "output_type": "execute_result"
    }
   ],
   "source": [
    "index_ivf.nprobe = 5\n",
    "_, document_indices = index_ivf.search(np.expand_dims(xq, axis=0), k=4)\n",
    "dataset.iloc[document_indices[0]]"
   ]
  },
  {
   "cell_type": "markdown",
   "metadata": {},
   "source": [
    "### IndexIVFPQ - IVF + Product Quantizer (PQ)\n",
    "\n",
    "<img src='images/ivf-pq.png' width=\"1000\">"
   ]
  },
  {
   "cell_type": "code",
   "execution_count": 20,
   "metadata": {},
   "outputs": [
    {
     "data": {
      "text/plain": [
       "False"
      ]
     },
     "execution_count": 20,
     "metadata": {},
     "output_type": "execute_result"
    }
   ],
   "source": [
    "code_size = 8\n",
    "bits_per_centroid = 4\n",
    "\n",
    "index_ivf_pq = faiss.IndexIVFPQ(\n",
    "    quantizer, embedding_dimension, ncentroids, code_size, bits_per_centroid\n",
    ")\n",
    "index_ivf_pq.is_trained"
   ]
  },
  {
   "cell_type": "code",
   "execution_count": 21,
   "metadata": {},
   "outputs": [
    {
     "data": {
      "text/plain": [
       "1000"
      ]
     },
     "execution_count": 21,
     "metadata": {},
     "output_type": "execute_result"
    }
   ],
   "source": [
    "index_ivf_pq.train(embeddings)\n",
    "index_ivf_pq.add(embeddings)\n",
    "index_ivf_pq.ntotal"
   ]
  },
  {
   "cell_type": "code",
   "execution_count": 22,
   "metadata": {},
   "outputs": [
    {
     "data": {
      "text/html": [
       "<div>\n",
       "<style scoped>\n",
       "    .dataframe tbody tr th:only-of-type {\n",
       "        vertical-align: middle;\n",
       "    }\n",
       "\n",
       "    .dataframe tbody tr th {\n",
       "        vertical-align: top;\n",
       "    }\n",
       "\n",
       "    .dataframe thead th {\n",
       "        text-align: right;\n",
       "    }\n",
       "</style>\n",
       "<table border=\"1\" class=\"dataframe\">\n",
       "  <thead>\n",
       "    <tr style=\"text-align: right;\">\n",
       "      <th></th>\n",
       "      <th>sentence</th>\n",
       "      <th>embedding</th>\n",
       "      <th>id</th>\n",
       "    </tr>\n",
       "  </thead>\n",
       "  <tbody>\n",
       "    <tr>\n",
       "      <th>286</th>\n",
       "      <td>The muscular black man is dancing and the man ...</td>\n",
       "      <td>[0.016497677192091942, 0.011000382713973522, -...</td>\n",
       "      <td>287</td>\n",
       "    </tr>\n",
       "    <tr>\n",
       "      <th>14</th>\n",
       "      <td>The band is singing</td>\n",
       "      <td>[-0.0184180848300457, -0.004225262440741062, 0...</td>\n",
       "      <td>15</td>\n",
       "    </tr>\n",
       "    <tr>\n",
       "      <th>771</th>\n",
       "      <td>A karate practitioner is kicking at another ma...</td>\n",
       "      <td>[-0.0276799313724041, 0.05446998402476311, -0....</td>\n",
       "      <td>772</td>\n",
       "    </tr>\n",
       "    <tr>\n",
       "      <th>194</th>\n",
       "      <td>The boy and the girl are playing and wearing a...</td>\n",
       "      <td>[0.03363574668765068, 0.025265799835324287, -0...</td>\n",
       "      <td>195</td>\n",
       "    </tr>\n",
       "  </tbody>\n",
       "</table>\n",
       "</div>"
      ],
      "text/plain": [
       "                                              sentence  \\\n",
       "286  The muscular black man is dancing and the man ...   \n",
       "14                                The band is singing    \n",
       "771  A karate practitioner is kicking at another ma...   \n",
       "194  The boy and the girl are playing and wearing a...   \n",
       "\n",
       "                                             embedding   id  \n",
       "286  [0.016497677192091942, 0.011000382713973522, -...  287  \n",
       "14   [-0.0184180848300457, -0.004225262440741062, 0...   15  \n",
       "771  [-0.0276799313724041, 0.05446998402476311, -0....  772  \n",
       "194  [0.03363574668765068, 0.025265799835324287, -0...  195  "
      ]
     },
     "execution_count": 22,
     "metadata": {},
     "output_type": "execute_result"
    }
   ],
   "source": [
    "index_ivf_pq.nprobe = 5\n",
    "_, document_indices = index_ivf_pq.search(np.expand_dims(xq, axis=0), k=4)\n",
    "dataset.iloc[document_indices[0]]"
   ]
  },
  {
   "cell_type": "markdown",
   "metadata": {},
   "source": [
    "## Pinecone\n"
   ]
  },
  {
   "cell_type": "code",
   "execution_count": 23,
   "metadata": {},
   "outputs": [
    {
     "name": "stdout",
     "output_type": "stream",
     "text": [
      "Successfully connected to Pinecone\n"
     ]
    }
   ],
   "source": [
    "import os\n",
    "from dotenv import load_dotenv\n",
    "from pinecone import Pinecone\n",
    "\n",
    "# Load environment variables\n",
    "load_dotenv()\n",
    "\n",
    "# Get API key\n",
    "PINECONE_API_KEY = os.getenv(\"PINECONE_API_KEY\")\n",
    "\n",
    "# Verify API key is loaded\n",
    "if not PINECONE_API_KEY:\n",
    "    raise ValueError(\"Pinecone API key not found in environment variables\")\n",
    "\n",
    "# Initialize Pinecone\n",
    "try:\n",
    "    database = Pinecone(api_key=PINECONE_API_KEY)\n",
    "    print(\"Successfully connected to Pinecone\")\n",
    "except Exception as e:\n",
    "    print(f\"Error connecting to Pinecone: {e}\")\n",
    "\n"
   ]
  },
  {
   "cell_type": "code",
   "execution_count": 24,
   "metadata": {},
   "outputs": [],
   "source": [
    "from pinecone import ServerlessSpec\n",
    "\n",
    "serverless_spec = ServerlessSpec(cloud=\"aws\", region=\"us-east-1\")"
   ]
  },
  {
   "cell_type": "code",
   "execution_count": 25,
   "metadata": {},
   "outputs": [],
   "source": [
    "import time\n",
    "\n",
    "INDEX_NAME = \"underfitted-random-sentences\"\n",
    "\n",
    "if INDEX_NAME not in database.list_indexes().names():\n",
    "    database.create_index(\n",
    "        name=INDEX_NAME,\n",
    "        dimension=embedding_dimension,\n",
    "        metric=\"cosine\",\n",
    "        spec=serverless_spec,\n",
    "    )\n",
    "\n",
    "    time.sleep(1)\n",
    "\n",
    "pinecone_index = database.Index(INDEX_NAME)"
   ]
  },
  {
   "cell_type": "code",
   "execution_count": 26,
   "metadata": {},
   "outputs": [
    {
     "data": {
      "text/plain": [
       "{'dimension': 1536,\n",
       " 'index_fullness': 0.0,\n",
       " 'namespaces': {'': {'vector_count': 1000}},\n",
       " 'total_vector_count': 1000}"
      ]
     },
     "execution_count": 26,
     "metadata": {},
     "output_type": "execute_result"
    }
   ],
   "source": [
    "pinecone_index.describe_index_stats()"
   ]
  },
  {
   "cell_type": "code",
   "execution_count": 27,
   "metadata": {},
   "outputs": [],
   "source": [
    "def iterator(dataset, size):\n",
    "    for i in range(0, len(dataset), size):\n",
    "        yield dataset.iloc[i : i + size]\n",
    "\n",
    "\n",
    "def vector(batch):\n",
    "    vector = []\n",
    "    for i in batch.to_dict(\"records\"):\n",
    "        vector.append((str(i[\"id\"]), i[\"embedding\"], {\"sentence\": i[\"sentence\"]}))\n",
    "\n",
    "    return vector"
   ]
  },
  {
   "cell_type": "code",
   "execution_count": 28,
   "metadata": {},
   "outputs": [],
   "source": [
    "if pinecone_index.describe_index_stats()[\"total_vector_count\"] == 0:\n",
    "    for batch in iterator(dataset, 100):\n",
    "        pinecone_index.upsert(vector(batch))"
   ]
  },
  {
   "cell_type": "code",
   "execution_count": 29,
   "metadata": {},
   "outputs": [
    {
     "data": {
      "text/plain": [
       "{'dimension': 1536,\n",
       " 'index_fullness': 0.0,\n",
       " 'namespaces': {'': {'vector_count': 1000}},\n",
       " 'total_vector_count': 1000}"
      ]
     },
     "execution_count": 29,
     "metadata": {},
     "output_type": "execute_result"
    }
   ],
   "source": [
    "pinecone_index.describe_index_stats()"
   ]
  },
  {
   "cell_type": "code",
   "execution_count": 31,
   "metadata": {},
   "outputs": [
    {
     "name": "stdout",
     "output_type": "stream",
     "text": [
      "A young child is watering a plant with splashes\n",
      "A young child is splashing in the water\n",
      "Three people are walking across a rope and steel bridge over a river\n",
      "A dog is swimming after a tennis ball\n"
     ]
    }
   ],
   "source": [
    "\n",
    "response = pinecone_index.query(\n",
    "    vector=xq.tolist(),  # Convert to list\n",
    "    top_k=4,\n",
    "    include_metadata=True\n",
    ")\n",
    "\n",
    "# Print matches\n",
    "for match in response[\"matches\"]:\n",
    "    print(match[\"metadata\"][\"sentence\"])"
   ]
  },
  {
   "cell_type": "code",
   "execution_count": 32,
   "metadata": {},
   "outputs": [
    {
     "name": "stdout",
     "output_type": "stream",
     "text": [
      "A baby is crawling happily\n",
      "Children are being dressed in costumes and playing a game\n",
      "A child in a green and white uniform for sports is running over the grass\n",
      "A child in a green and white sports uniform is running over the grass\n",
      "A football player is running past an official carrying a football\n"
     ]
    }
   ],
   "source": [
    "query2 = \"I like animals that eat too much\"\n",
    "xq2 = get_embedding(query2)\n",
    "response = pinecone_index.query(vector=xq2, top_k=5, include_metadata=True)\n",
    "for match in response[\"matches\"]:\n",
    "    print(match[\"metadata\"][\"sentence\"])"
   ]
  },
  {
   "cell_type": "code",
   "execution_count": 33,
   "metadata": {},
   "outputs": [],
   "source": [
    "database.delete_index(INDEX_NAME)"
   ]
  },
  {
   "cell_type": "code",
   "execution_count": null,
   "metadata": {},
   "outputs": [],
   "source": []
  }
 ],
 "metadata": {
  "kernelspec": {
   "display_name": "Python 3 (ipykernel)",
   "language": "python",
   "name": "python3"
  },
  "language_info": {
   "codemirror_mode": {
    "name": "ipython",
    "version": 3
   },
   "file_extension": ".py",
   "mimetype": "text/x-python",
   "name": "python",
   "nbconvert_exporter": "python",
   "pygments_lexer": "ipython3",
   "version": "3.10.15"
  }
 },
 "nbformat": 4,
 "nbformat_minor": 4
}
